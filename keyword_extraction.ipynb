{
 "cells": [
  {
   "cell_type": "code",
   "execution_count": 12,
   "metadata": {},
   "outputs": [],
   "source": [
    "#example keyword code, import setup, wtext setup\n",
    "\n",
    "import spacy\n",
    "import regex\n",
    "import spacy_ke\n",
    "import selenium\n",
    "import requests\n",
    "import lxml.html\n",
    "from bs4 import BeautifulSoup\n",
    "\n",
    "nlp = spacy.load(\"en_core_web_trf\")\n",
    "nlp.add_pipe(\"yake\")\n",
    "text = \"\"\"During the Iron Age, in the ancient Middle East and Mediterranean, the battering ram's log was slung from a wheeled frame by ropes or chains so that it could be made more massive and be more easily bashed against its target. Frequently, the ram's point would be reinforced with a metal head or cap while vulnerable parts of the shaft were bound with strengthening metal bands. Vitruvius details in his text De architectura that Ceras the Carthaginian was the first to make a ram with a wooden base with wheels and a wooden superstructure, with the ram hung within. This structure moved so slowly, however, that he called it the testudo (Latin for \"tortoise\").[2]\"\"\""
   ]
  },
  {
   "cell_type": "code",
   "execution_count": 3,
   "metadata": {},
   "outputs": [
    {
     "name": "stdout",
     "output_type": "stream",
     "text": [
      "ancient Middle East - 0.002058233455434041\n",
      "ADJ\n",
      "PROPN\n",
      "PROPN\n",
      "\n",
      "\n",
      "Iron Age - 0.0060073512168337595\n",
      "PROPN\n",
      "PROPN\n",
      "\n",
      "\n",
      "wheeled frame - 0.05465239986112086\n",
      "ADJ\n",
      "NOUN\n",
      "\n",
      "\n",
      "easily bashed - 0.05465239986112086\n",
      "ADV\n",
      "VERB\n",
      "\n",
      "\n",
      "Age - 0.07004737652494232\n",
      "PROPN\n",
      "\n",
      "\n",
      "Mediterranean - 0.07004737652494232\n",
      "PROPN\n",
      "\n",
      "\n",
      "battering ram - 0.084642849450724\n",
      "VERB\n",
      "NOUN\n",
      "\n",
      "\n",
      "Middle - 0.09282792934686732\n",
      "PROPN\n",
      "\n",
      "\n",
      "East - 0.09282792934686732\n",
      "PROPN\n",
      "\n",
      "\n",
      "ram - 0.10763633759081931\n",
      "NOUN\n",
      "\n",
      "\n",
      "the Iron Age DATE\n",
      "Middle East LOC\n",
      "Mediterranean LOC\n",
      "Vitruvius PERSON\n",
      "De architectura WORK_OF_ART\n",
      "Ceras PERSON\n",
      "first ORDINAL\n",
      "Latin NORP\n"
     ]
    }
   ],
   "source": [
    "# text processing setup\n",
    "\n",
    "doc = nlp(text)\n",
    "\n",
    "# part of speech mapping\n",
    "pos = dict()\n",
    "for token in doc:\n",
    "    pos.update({str(token): token.pos_})\n",
    "\n",
    "# Grab keyphrases\n",
    "keyphrases = []\n",
    "for keyword, score in doc._.extract_keywords():\n",
    "    print(keyword, \"-\", score)\n",
    "    keyphrases.append(keyword)\n",
    "    for word in ((str)(keyword)).split() :\n",
    "        print(pos.get(word))\n",
    "    print(\"\\n\")\n",
    "    \n",
    "#quick searching named entities\n",
    "named = doc.ents\n",
    "named_set = set(map(lambda x: str(x), named))\n",
    "for entity in named:\n",
    "    print(entity.text, entity.label_)  "
   ]
  },
  {
   "cell_type": "code",
   "execution_count": 14,
   "metadata": {},
   "outputs": [
    {
     "name": "stdout",
     "output_type": "stream",
     "text": [
      "0\n",
      "1\n",
      "0\n",
      "0\n",
      "1\n",
      "1\n",
      "1\n",
      "1\n",
      "1\n",
      "1\n"
     ]
    }
   ],
   "source": [
    "# splitting phrases into keywords\n",
    "for phrase in keyphrases:\n",
    "    \n",
    "    #check for named entity \n",
    "    words = ((str)(phrase)).split()\n",
    "    \n",
    "    # Proper nouns\n",
    "    named_share = 0\n",
    "    proper_match = None \n",
    "    for ent in named:\n",
    "        intersect = set(words).intersection((ent.text).split())\n",
    "        if (len(intersect) > named_share):\n",
    "            proper_match = ent\n",
    "            named_share = len(intersect)\n",
    "\n",
    "        # for regular words\n",
    "    URL = ('https://www.dictionary.com/browse/%s' % ((str)(phrase).lower()).replace(\" \", \"-\"))    \n",
    "    #page = requests.get(URL, headers={\n",
    "    #\"User-Agent\" : \"Mozilla/5.0 (X11; Linux x86_64) AppleWebKit/537.36 (KHTML, like Gecko) Chrome/51.0.2704.103 Safari/537.36\"})\n",
    "        #soup = BeautifulSoup(page.content, \"html.parser\")\n",
    "        #defs = soup.find_all(\"div\", {\"class\": \"pr entry-body__el\"})\n",
    "    #html = lxml.html.fromstring(page.content)\n",
    "    #defs = html.xpath(\"/html/body/div[1]/div/main/div[2]/div[2]/section[1]\")\n",
    "    #if (len(defs) != 0):\n",
    "    #    for defin in defs:\n",
    "    #else:\n",
    "    #    URL = ('https://en.wikipedia.org/wiki/%s' % ((str)(phrase).lower()).replace(\" \", \"_\"))\n",
    "    "
   ]
  },
  {
   "cell_type": "code",
   "execution_count": null,
   "metadata": {},
   "outputs": [],
   "source": []
  }
 ],
 "metadata": {
  "kernelspec": {
   "display_name": "Python 3",
   "language": "python",
   "name": "python3"
  },
  "language_info": {
   "codemirror_mode": {
    "name": "ipython",
    "version": 3
   },
   "file_extension": ".py",
   "mimetype": "text/x-python",
   "name": "python",
   "nbconvert_exporter": "python",
   "pygments_lexer": "ipython3",
   "version": "3.11.9"
  }
 },
 "nbformat": 4,
 "nbformat_minor": 2
}
