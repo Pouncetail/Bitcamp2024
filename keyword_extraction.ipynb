{
 "cells": [
  {
   "cell_type": "code",
   "execution_count": 12,
   "metadata": {},
   "outputs": [],
   "source": [
    "#example keyword code, import setup, wtext setup\n",
    "\n",
    "import spacy\n",
    "import spacy_ke\n",
    "import selenium\n",
    "import requests\n",
    "from bs4 import BeautifulSoup\n",
    "\n",
    "nlp = spacy.load(\"en_core_web_trf\")\n",
    "nlp.add_pipe(\"yake\")\n",
    "text = \"\"\"Spinosaurus (/ˌspaɪnəˈsɔːrəs/; lit. 'spine lizard') is a genus of spinosaurid dinosaur that lived in what now is North Africa during the Cenomanian to upper Turonian stages of the Late Cretaceous period, about 99 to 93.5 million years ago.[2][3] The genus was known first from Egyptian remains discovered in 1912 and described by German palaeontologist Ernst Stromer in 1915. The original remains were destroyed in World War II, but additional material came to light in the early 21st century. It is unclear whether one or two species are represented in the fossils reported in the scientific literature. The best known species is S. aegyptiacus from Egypt, although a potential second species, S. maroccanus, has been recovered from Morocco. The contemporary spinosaurid genus Sigilmassasaurus has also been synonymized by some authors with S. aegyptiacus, though other researchers propose it to be a distinct taxon. Another possible junior synonym is Oxalaia from the Alcântara Formation in Brazil.\"\"\"\n"
   ]
  },
  {
   "cell_type": "code",
   "execution_count": 29,
   "metadata": {},
   "outputs": [],
   "source": [
    "# text processing setup\n",
    "\n",
    "doc = nlp(text)\n",
    "\n",
    "# part of speech mapping\n",
    "pos = dict()\n",
    "for token in doc:\n",
    "    pos.update({str(token): token.pos_})\n",
    "\n",
    "# Grab keyphrases\n",
    "keyphrases = []\n",
    "for keyword, score in doc._.extract_keywords():\n",
    "    #print(keyword, \"-\", score)\n",
    "    keyphrases.append(keyword)\n",
    "    #for word in ((str)(keyword)).split() :\n",
    "        #print(pos.get(word))\n",
    "    #print(\"\\n\")\n",
    "    \n",
    "#quick searching named entities\n",
    "named = doc.ents\n",
    "named_set = set(map(lambda x: str(x), named))\n",
    "#for entity in named:\n",
    "    #print(entity.text, entity.label_)  "
   ]
  },
  {
   "cell_type": "code",
   "execution_count": null,
   "metadata": {},
   "outputs": [],
   "source": [
    "# splitting phrases into keywords\n",
    "for phrase in keyphrases:\n",
    "    \n",
    "    #check for named entity \n",
    "    words = phrase.split()\n",
    "    intersect = intersection(lst(words, named_set))\n",
    "    for word in words:\n",
    "        if (pos.get(word) != \"PROPN\"):\n",
    "            print(word + \": \" + str(pos.get(word)))\n",
    "            # for regular words\n",
    "            URL = ('https://dictionary.cambridge.org/dictionary/english/%s' % word.lower())    \n",
    "            page = requests.get(URL, headers={\n",
    "            \"User-Agent\" : \"Mozilla/5.0 (X11; Linux x86_64) AppleWebKit/537.36 (KHTML, like Gecko) Chrome/51.0.2704.103 Safari/537.36\"})\n",
    "            soup = BeautifulSoup(page.content, \"html.parser\")\n",
    "            defs = soup.find_all(\"div\", {\"class\": \"pr entry-body__el\"})\n",
    "            for defin in defs:\n",
    "                \n",
    "        else if (pos.get(str(word)) == 'VERB' ):\n",
    "            #"
   ]
  }
 ],
 "metadata": {
  "kernelspec": {
   "display_name": "Python 3",
   "language": "python",
   "name": "python3"
  },
  "language_info": {
   "codemirror_mode": {
    "name": "ipython",
    "version": 3
   },
   "file_extension": ".py",
   "mimetype": "text/x-python",
   "name": "python",
   "nbconvert_exporter": "python",
   "pygments_lexer": "ipython3",
   "version": "3.11.9"
  }
 },
 "nbformat": 4,
 "nbformat_minor": 2
}
